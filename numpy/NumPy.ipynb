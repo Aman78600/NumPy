{
 "cells": [
  {
   "cell_type": "code",
   "execution_count": 1,
   "id": "c5afe500",
   "metadata": {},
   "outputs": [],
   "source": [
    "import numpy as np"
   ]
  },
  {
   "cell_type": "markdown",
   "id": "797e49cc",
   "metadata": {},
   "source": [
    "# converting a list to array"
   ]
  },
  {
   "cell_type": "code",
   "execution_count": 2,
   "id": "4b682401",
   "metadata": {},
   "outputs": [
    {
     "name": "stdout",
     "output_type": "stream",
     "text": [
      "<class 'list'>\n",
      "<class 'numpy.ndarray'>\n",
      "[1 2 3 4]\n",
      "1\n",
      "[[1 2 3 4]]\n",
      "2\n"
     ]
    }
   ],
   "source": [
    "lst=[1,2,3,4]\n",
    "print(type(lst))\n",
    "\n",
    "arr=np.array(lst)\n",
    "print(type(arr))\n",
    "print(arr)\n",
    "print(arr.ndim)\n",
    "\n",
    "arr=np.array(lst,ndmin=2)\n",
    "print(arr)\n",
    "print(arr.ndim)\n"
   ]
  },
  {
   "cell_type": "markdown",
   "id": "c89cd8ef",
   "metadata": {},
   "source": [
    "# 2. Arrange funciton"
   ]
  },
  {
   "cell_type": "code",
   "execution_count": 3,
   "id": "29d54b50",
   "metadata": {},
   "outputs": [
    {
     "data": {
      "text/plain": [
       "array([1, 2, 3, 4, 5, 6, 7, 8, 9])"
      ]
     },
     "execution_count": 3,
     "metadata": {},
     "output_type": "execute_result"
    }
   ],
   "source": [
    "np.arange(1,10)"
   ]
  },
  {
   "cell_type": "code",
   "execution_count": 4,
   "id": "22a3e9df",
   "metadata": {},
   "outputs": [
    {
     "data": {
      "text/plain": [
       "array([1, 3, 5, 7, 9])"
      ]
     },
     "execution_count": 4,
     "metadata": {},
     "output_type": "execute_result"
    }
   ],
   "source": [
    "np.arange(1,10,2)"
   ]
  },
  {
   "cell_type": "markdown",
   "id": "e1899b0c",
   "metadata": {},
   "source": [
    "# 3. multidimensional Array"
   ]
  },
  {
   "cell_type": "code",
   "execution_count": 5,
   "id": "b069d815",
   "metadata": {},
   "outputs": [
    {
     "data": {
      "text/plain": [
       "array([[1, 2, 3, 1],\n",
       "       [2, 4, 5, 6],\n",
       "       [3, 7, 8, 9]])"
      ]
     },
     "execution_count": 5,
     "metadata": {},
     "output_type": "execute_result"
    }
   ],
   "source": [
    "arr=np.array([[1,2,3,1],[2,4,5,6],[3,7,8,9]])\n",
    "arr"
   ]
  },
  {
   "cell_type": "markdown",
   "id": "440bd81d",
   "metadata": {},
   "source": [
    "# 4. Size Function"
   ]
  },
  {
   "cell_type": "code",
   "execution_count": 6,
   "id": "f6641e4b",
   "metadata": {},
   "outputs": [
    {
     "data": {
      "text/plain": [
       "12"
      ]
     },
     "execution_count": 6,
     "metadata": {},
     "output_type": "execute_result"
    }
   ],
   "source": [
    "arr.size"
   ]
  },
  {
   "cell_type": "code",
   "execution_count": 7,
   "id": "8ad62e8d",
   "metadata": {},
   "outputs": [
    {
     "name": "stdout",
     "output_type": "stream",
     "text": [
      "total     : 12\n",
      "total Row : 3\n",
      "total Col : 4\n"
     ]
    }
   ],
   "source": [
    "print(\"total     :\",arr.size)\n",
    "print(\"total Row :\",np.size(arr,0))\n",
    "print(\"total Col :\",np.size(arr,1))"
   ]
  },
  {
   "cell_type": "markdown",
   "id": "60cf7b9d",
   "metadata": {},
   "source": [
    "# 5. Shape Function"
   ]
  },
  {
   "cell_type": "code",
   "execution_count": 8,
   "id": "b3ceaa8f",
   "metadata": {},
   "outputs": [
    {
     "data": {
      "text/plain": [
       "(2, 4)"
      ]
     },
     "execution_count": 8,
     "metadata": {},
     "output_type": "execute_result"
    }
   ],
   "source": [
    "arr=np.array([[1,2,3,4],[5,6,7,8]])\n",
    "\n",
    "arr.shape"
   ]
  },
  {
   "cell_type": "markdown",
   "id": "dba81fce",
   "metadata": {},
   "source": [
    "# 6. Dtype Function"
   ]
  },
  {
   "cell_type": "code",
   "execution_count": 9,
   "id": "1e19a85a",
   "metadata": {},
   "outputs": [
    {
     "name": "stdout",
     "output_type": "stream",
     "text": [
      "float64\n"
     ]
    },
    {
     "data": {
      "text/plain": [
       "dtype('int32')"
      ]
     },
     "execution_count": 9,
     "metadata": {},
     "output_type": "execute_result"
    }
   ],
   "source": [
    "arr=np.array([[1, 2, 3, 4],\n",
    "       [5, 6, 7, 8]])\n",
    "arr1=np.array([1,5.2,4.5,5])\n",
    "print(arr1.dtype)\n",
    "arr.dtype\n"
   ]
  },
  {
   "cell_type": "markdown",
   "id": "7db649b7",
   "metadata": {},
   "source": [
    "# 7. Ndim Function"
   ]
  },
  {
   "cell_type": "code",
   "execution_count": 10,
   "id": "c2c33b45",
   "metadata": {},
   "outputs": [
    {
     "data": {
      "text/plain": [
       "2"
      ]
     },
     "execution_count": 10,
     "metadata": {},
     "output_type": "execute_result"
    }
   ],
   "source": [
    "arr1=np.array([[1,2,3],[4.5,4,6]])\n",
    "\n",
    "arr1.ndim"
   ]
  },
  {
   "cell_type": "markdown",
   "id": "2a0b18e1",
   "metadata": {},
   "source": [
    "# 8. Zeros Function"
   ]
  },
  {
   "cell_type": "code",
   "execution_count": 11,
   "id": "d411147c",
   "metadata": {},
   "outputs": [
    {
     "name": "stdout",
     "output_type": "stream",
     "text": [
      "float64\n"
     ]
    },
    {
     "data": {
      "text/plain": [
       "array([[0., 0., 0., 0., 0.],\n",
       "       [0., 0., 0., 0., 0.],\n",
       "       [0., 0., 0., 0., 0.],\n",
       "       [0., 0., 0., 0., 0.],\n",
       "       [0., 0., 0., 0., 0.]])"
      ]
     },
     "execution_count": 11,
     "metadata": {},
     "output_type": "execute_result"
    }
   ],
   "source": [
    "a=np.zeros(shape=(5,5))\n",
    "print(a.dtype)\n",
    "a"
   ]
  },
  {
   "cell_type": "code",
   "execution_count": 12,
   "id": "40c74e6d",
   "metadata": {},
   "outputs": [
    {
     "data": {
      "text/plain": [
       "dtype('int32')"
      ]
     },
     "execution_count": 12,
     "metadata": {},
     "output_type": "execute_result"
    }
   ],
   "source": [
    "a=np.zeros(shape=(3,5),dtype=int)\n",
    "a.dtype"
   ]
  },
  {
   "cell_type": "markdown",
   "id": "5ae5b82c",
   "metadata": {},
   "source": [
    "# 9. Eyw Function"
   ]
  },
  {
   "cell_type": "code",
   "execution_count": 13,
   "id": "81d5ee0b",
   "metadata": {},
   "outputs": [
    {
     "data": {
      "text/plain": [
       "array([[1., 0., 0., 0.],\n",
       "       [0., 1., 0., 0.],\n",
       "       [0., 0., 1., 0.],\n",
       "       [0., 0., 0., 1.]])"
      ]
     },
     "execution_count": 13,
     "metadata": {},
     "output_type": "execute_result"
    }
   ],
   "source": [
    "np.eye(4)"
   ]
  },
  {
   "cell_type": "code",
   "execution_count": 14,
   "id": "1e6dfad1",
   "metadata": {},
   "outputs": [
    {
     "data": {
      "text/plain": [
       "array([[1, 0, 0, 0],\n",
       "       [0, 1, 0, 0],\n",
       "       [0, 0, 1, 0],\n",
       "       [0, 0, 0, 1]])"
      ]
     },
     "execution_count": 14,
     "metadata": {},
     "output_type": "execute_result"
    }
   ],
   "source": [
    "np.eye(4,dtype=int)"
   ]
  },
  {
   "cell_type": "markdown",
   "id": "69888a48",
   "metadata": {},
   "source": [
    "# 10. Empty Function"
   ]
  },
  {
   "cell_type": "code",
   "execution_count": 15,
   "id": "64be2d0f",
   "metadata": {},
   "outputs": [
    {
     "data": {
      "text/plain": [
       "array([[1.47678212e-311, 1.01283457e-321, 0.00000000e+000,\n",
       "        0.00000000e+000, 2.22526399e-307, 1.16097020e-028],\n",
       "       [8.26330279e-072, 2.54818291e-028, 5.39178807e-062,\n",
       "        1.04917183e-153, 5.23081515e-143, 5.40358723e-038],\n",
       "       [2.19507801e-056, 4.66822222e-062, 1.36967059e-071,\n",
       "        1.70098498e+256, 5.49109388e-143, 1.06396443e+224],\n",
       "       [3.96041428e+246, 1.16318408e-028, 1.25865857e-047,\n",
       "        2.10816752e-052, 5.98251315e+174, 2.65008006e-032],\n",
       "       [1.01848862e+248, 1.16096643e-028, 9.80058441e+252,\n",
       "        7.50189709e+247, 1.14484251e+243, 2.59903827e-144]])"
      ]
     },
     "execution_count": 15,
     "metadata": {},
     "output_type": "execute_result"
    }
   ],
   "source": [
    "np.empty(shape = (5,6))"
   ]
  },
  {
   "cell_type": "markdown",
   "id": "c26e4c69",
   "metadata": {},
   "source": [
    " # 11. Random Function"
   ]
  },
  {
   "cell_type": "markdown",
   "id": "e19636f0",
   "metadata": {},
   "source": [
    "## a) np.random.rand"
   ]
  },
  {
   "cell_type": "code",
   "execution_count": 16,
   "id": "58317cea",
   "metadata": {},
   "outputs": [
    {
     "data": {
      "text/plain": [
       "array([[0.95618625, 0.42300929, 0.73199959, 0.66042444],\n",
       "       [0.20455316, 0.0548072 , 0.44340915, 0.0402402 ],\n",
       "       [0.73911504, 0.5566176 , 0.00544098, 0.93587267]])"
      ]
     },
     "execution_count": 16,
     "metadata": {},
     "output_type": "execute_result"
    }
   ],
   "source": [
    "np.random.rand(3,4)"
   ]
  },
  {
   "cell_type": "markdown",
   "id": "46f87e21",
   "metadata": {},
   "source": [
    "## b) np.random.randint"
   ]
  },
  {
   "cell_type": "code",
   "execution_count": 17,
   "id": "d02df90d",
   "metadata": {},
   "outputs": [
    {
     "data": {
      "text/plain": [
       "array([7, 9, 1, 3, 9])"
      ]
     },
     "execution_count": 17,
     "metadata": {},
     "output_type": "execute_result"
    }
   ],
   "source": [
    "np.random.randint(1,10,5)"
   ]
  },
  {
   "cell_type": "code",
   "execution_count": 18,
   "id": "9bb240de",
   "metadata": {},
   "outputs": [
    {
     "data": {
      "text/plain": [
       "array([ 5,  1,  1,  4,  4, 10,  9,  8, 11,  5, 10,  3])"
      ]
     },
     "execution_count": 18,
     "metadata": {},
     "output_type": "execute_result"
    }
   ],
   "source": [
    "np.random.randint(low=1,high=15,size=12)"
   ]
  },
  {
   "cell_type": "markdown",
   "id": "3679b189",
   "metadata": {},
   "source": [
    "## c) np.random.randn"
   ]
  },
  {
   "cell_type": "code",
   "execution_count": 19,
   "id": "db177d25",
   "metadata": {},
   "outputs": [
    {
     "data": {
      "text/plain": [
       "array([ 0.47190823, -0.5393366 ,  1.66435383,  0.73400975, -1.21732205,\n",
       "        1.59329462, -0.26265533,  0.45413346, -0.6766069 ,  1.33318452,\n",
       "       -1.22153826,  1.88064243,  0.99573696, -0.66036898,  0.59618825,\n",
       "        0.05164568, -1.39020983,  0.83976047, -1.4535565 ,  0.78766957,\n",
       "       -0.50989623,  1.08198947,  0.42052723,  1.14163273,  0.59937775,\n",
       "       -1.68527212,  0.20480651,  0.02283811, -0.48116063,  0.89951337,\n",
       "        1.17846241,  0.30498023, -1.97361642,  0.33456672, -1.06559258,\n",
       "       -0.34328456, -0.60292548, -1.60930463,  0.31107588,  0.26607768,\n",
       "        0.00988174, -1.54902288,  0.36694575, -0.51941791, -0.14084022,\n",
       "       -0.18526511,  0.79403484,  0.44699687,  1.29151646, -0.45377317,\n",
       "       -1.37099398,  0.50165523,  0.00278413, -0.87732857,  0.77932066,\n",
       "        0.29226945,  0.23122365, -1.67886675, -0.87947197,  0.24786943,\n",
       "       -1.43217519,  1.23712441,  0.36361274, -0.30934281,  1.51563764,\n",
       "       -1.54693348,  0.51479882, -0.57580353,  0.46766861,  0.65073919,\n",
       "        0.86248422, -2.04529359, -0.75293181,  0.12275513,  0.83069665,\n",
       "        0.70988441, -0.22027449,  0.31470266,  1.3290375 ,  2.23007171,\n",
       "       -0.20659912,  0.35171249,  0.78589779, -1.08764976,  0.08691978,\n",
       "       -0.3275631 , -0.69578824,  0.39366   ,  0.02311669, -0.39078121,\n",
       "        0.69726494,  0.94867479,  0.26679145,  0.56026841,  2.24682398,\n",
       "        1.1565131 , -1.05023736,  2.20448667,  1.49713067,  0.36624726])"
      ]
     },
     "execution_count": 19,
     "metadata": {},
     "output_type": "execute_result"
    }
   ],
   "source": [
    "np.random.randn(100)"
   ]
  },
  {
   "cell_type": "markdown",
   "id": "2d169069",
   "metadata": {},
   "source": [
    "# 12. Reshape Function "
   ]
  },
  {
   "cell_type": "code",
   "execution_count": 20,
   "id": "2e3f7d2e",
   "metadata": {},
   "outputs": [
    {
     "name": "stdout",
     "output_type": "stream",
     "text": [
      "[[ 2  5  4  7]\n",
      " [ 4 14  6  7]\n",
      " [ 4 11  2  8]]\n",
      "(3, 4)\n",
      "(4, 3)\n",
      "[[ 2  5  4]\n",
      " [ 7  4 14]\n",
      " [ 6  7  4]\n",
      " [11  2  8]]\n",
      "[[ 2  5]\n",
      " [ 4  7]\n",
      " [ 4 14]\n",
      " [ 6  7]\n",
      " [ 4 11]\n",
      " [ 2  8]]\n"
     ]
    }
   ],
   "source": [
    "arr=np.random.randint(1,15,(3,4))\n",
    "print(arr)\n",
    "print(arr.shape)\n",
    "arr=arr.reshape(4,3)\n",
    "print(arr.shape)\n",
    "print(arr)\n",
    "print(arr.reshape(6,2))"
   ]
  },
  {
   "cell_type": "markdown",
   "id": "5a6b16e8",
   "metadata": {},
   "source": [
    "# 13. Linspace Function"
   ]
  },
  {
   "cell_type": "code",
   "execution_count": 21,
   "id": "10f89e02",
   "metadata": {},
   "outputs": [
    {
     "data": {
      "text/plain": [
       "array([ 0. ,  2.5,  5. ,  7.5, 10. ])"
      ]
     },
     "execution_count": 21,
     "metadata": {},
     "output_type": "execute_result"
    }
   ],
   "source": [
    "np.linspace(0,10,5)\n",
    "# np.random.randint(0,10,5)\n",
    "# np.arange(0,10,2)"
   ]
  },
  {
   "cell_type": "markdown",
   "id": "c3075254",
   "metadata": {},
   "source": [
    "# 14. Flatten Function"
   ]
  },
  {
   "cell_type": "code",
   "execution_count": 22,
   "id": "76d3e20b",
   "metadata": {},
   "outputs": [
    {
     "name": "stdout",
     "output_type": "stream",
     "text": [
      "(3, 4)\n",
      "[[ 1  2  3  4]\n",
      " [ 5  6  7  8]\n",
      " [ 9 10 11 12]]\n",
      "(12,)\n",
      "[ 1  2  3  4  5  6  7  8  9 10 11 12]\n"
     ]
    }
   ],
   "source": [
    "arr =np.arange(1,13)\n",
    "arr=arr.reshape(3,4)\n",
    "print(arr.shape)\n",
    "print(arr)\n",
    "arr=arr.flatten()\n",
    "print(arr.shape)\n",
    "print(arr)"
   ]
  },
  {
   "cell_type": "markdown",
   "id": "d9c2e33e",
   "metadata": {},
   "source": [
    "# 15. Logspace Function"
   ]
  },
  {
   "cell_type": "code",
   "execution_count": 23,
   "id": "b69c82b9",
   "metadata": {},
   "outputs": [
    {
     "data": {
      "text/plain": [
       "array([  100.        ,   316.22776602,  1000.        ,  3162.27766017,\n",
       "       10000.        ])"
      ]
     },
     "execution_count": 23,
     "metadata": {},
     "output_type": "execute_result"
    }
   ],
   "source": [
    "np.logspace(2,4,5)"
   ]
  },
  {
   "cell_type": "markdown",
   "id": "65aec2fb",
   "metadata": {},
   "source": [
    "# 16. copy arry"
   ]
  },
  {
   "cell_type": "code",
   "execution_count": 24,
   "id": "adcb83d2",
   "metadata": {},
   "outputs": [
    {
     "name": "stdout",
     "output_type": "stream",
     "text": [
      "[ 3  1  6  6  9  7 10  6 13  6] 2989241734256\n",
      "[ 3  1  6  6  9  7 10  6 13  6] 2989241734256\n",
      "--------------------------------------------------\n",
      "[30 94 54  1 67 12 16 29  8 76] 2989241733968\n",
      "[30 94 54  1 67 12 16 29  8 76] 2989241450288\n"
     ]
    }
   ],
   "source": [
    "arr1=np.random.randint(1,15,10)\n",
    "arr2=arr1\n",
    "print(arr1,id(arr1))\n",
    "print(arr2,id(arr2))\n",
    "\n",
    "\n",
    "print(\"-\"*50)\n",
    "arr1=np.random.randint(1,100,(10))\n",
    "arr2=np.copy(arr1)\n",
    "print(arr1,id(arr1))\n",
    "print(arr2,id(arr2))"
   ]
  },
  {
   "cell_type": "markdown",
   "id": "26f084d9",
   "metadata": {},
   "source": [
    "# 17. arr.min() arr.max() arr.sum() function"
   ]
  },
  {
   "cell_type": "code",
   "execution_count": 25,
   "id": "3fd1d9b7",
   "metadata": {},
   "outputs": [
    {
     "name": "stdout",
     "output_type": "stream",
     "text": [
      "------------------------------ \n",
      " [[12 43 22 36]\n",
      " [39 18 35 31]\n",
      " [21 28  5 11]] ------------------------------\n",
      "minimum value of arr => 5\n",
      "maximum value of arr => 43\n",
      "sum of arr elemant => 301\n"
     ]
    }
   ],
   "source": [
    "arr=np.random.randint(1,45,(3,4))\n",
    "print (\"-\"*30,\"\\n\",arr,\"-\"*30)\n",
    "print(\"minimum value of arr =>\",arr.min())\n",
    "print(\"maximum value of arr =>\",arr.max())\n",
    "print(\"sum of arr elemant =>\",arr.sum())\n"
   ]
  },
  {
   "cell_type": "markdown",
   "id": "049eac22",
   "metadata": {},
   "source": [
    "## column=0\n",
    "## row=1"
   ]
  },
  {
   "cell_type": "code",
   "execution_count": 26,
   "id": "42e953e4",
   "metadata": {},
   "outputs": [
    {
     "name": "stdout",
     "output_type": "stream",
     "text": [
      "[[93 31 50 58 71]\n",
      " [21 84 86 49 18]\n",
      " [52 51 11 13 79]]\n",
      "\n",
      " ------------------------- Column -------------------------\n",
      "minimum value of arr in column => [21 31 11 13 18]\n",
      "maximum value of arr in column => [93 84 86 58 79]\n",
      "sum of arr elemant in column => [166 166 147 120 168]\n",
      "\n",
      " ------------------------- Row -------------------------\n",
      "minimum value of arr in column => [31 18 11]\n",
      "maximum value of arr in column => [93 86 79]\n",
      "sum of arr elemant in column => [303 258 206]\n"
     ]
    }
   ],
   "source": [
    "arr=np.random.randint(1,100,(3,5))\n",
    "print(arr)\n",
    "print(\"\\n\",\"-\"*25,\"Column\",\"-\"*25)\n",
    "print(\"minimum value of arr in column =>\",arr.min(axis=0))\n",
    "print(\"maximum value of arr in column =>\",arr.max(axis=0))\n",
    "print(\"sum of arr elemant in column =>\",arr.sum(axis=0))\n",
    "print(\"\\n\",\"-\"*25,\"Row\",\"-\"*25)\n",
    "print(\"minimum value of arr in column =>\",arr.min(axis=1))\n",
    "print(\"maximum value of arr in column =>\",arr.max(axis=1))\n",
    "print(\"sum of arr elemant in column =>\",arr.sum(axis=1))\n"
   ]
  },
  {
   "cell_type": "markdown",
   "id": "b3000480",
   "metadata": {},
   "source": [
    "# 18. seed function"
   ]
  },
  {
   "cell_type": "code",
   "execution_count": 27,
   "id": "443fc1a9",
   "metadata": {},
   "outputs": [
    {
     "data": {
      "text/plain": [
       "array([[11,  9, 10,  4],\n",
       "       [ 9,  9,  1,  6],\n",
       "       [14,  4, 11, 12]])"
      ]
     },
     "execution_count": 27,
     "metadata": {},
     "output_type": "execute_result"
    }
   ],
   "source": [
    "np.random.seed(3)#using this function we can \n",
    "arr=np.random.randint(1,15,(3,4))\n",
    "arr"
   ]
  },
  {
   "cell_type": "code",
   "execution_count": 28,
   "id": "79669460",
   "metadata": {},
   "outputs": [
    {
     "data": {
      "text/plain": [
       "array([[10, 10, 11,  6],\n",
       "       [ 8,  7,  1,  5],\n",
       "       [13, 14,  8,  9]])"
      ]
     },
     "execution_count": 28,
     "metadata": {},
     "output_type": "execute_result"
    }
   ],
   "source": [
    "arr=np.random.randint(1,15,(3,4))\n",
    "arr"
   ]
  },
  {
   "cell_type": "markdown",
   "id": "f7f352f1",
   "metadata": {},
   "source": [
    "# 19. np.sort(arr) "
   ]
  },
  {
   "cell_type": "code",
   "execution_count": 43,
   "id": "5980c9fc",
   "metadata": {},
   "outputs": [
    {
     "name": "stdout",
     "output_type": "stream",
     "text": [
      "[[43 25  4  9  1]\n",
      " [22 20 11 44 42]\n",
      " [11 22 39 33 21]]\n",
      "--------------------------------------------------\n",
      "[[ 1  4  9 25 43]\n",
      " [11 20 22 42 44]\n",
      " [11 21 22 33 39]]\n",
      "--------------------------------------------------\n",
      "[[11 20  4  9  1]\n",
      " [22 22 11 33 21]\n",
      " [43 25 39 44 42]]\n",
      "--------------------------------------------------\n"
     ]
    },
    {
     "data": {
      "text/plain": [
       "array([[ 1,  4,  9, 11, 11],\n",
       "       [20, 21, 22, 22, 25],\n",
       "       [33, 39, 42, 43, 44]])"
      ]
     },
     "execution_count": 43,
     "metadata": {},
     "output_type": "execute_result"
    }
   ],
   "source": [
    "### arr=np.arange(1,16)\n",
    "arr=arr.reshape(3,5)\n",
    "arr\n",
    "np.random.seed(3)\n",
    "arr=np.random.randint(1,45,(3,5))\n",
    "print(arr)\n",
    "print(\"-\"*50)\n",
    "print(np.sort(arr))\n",
    "print(\"-\"*50)\n",
    "print(np.sort(arr,axis=0))\n",
    "\n",
    "print('-'*50)\n",
    "arr=np.reshape(np.sort(arr.flatten()),(3,5))\n",
    "arr"
   ]
  },
  {
   "cell_type": "markdown",
   "id": "dea763c9",
   "metadata": {},
   "source": [
    "# 20.  Mathematical Oprations"
   ]
  },
  {
   "cell_type": "markdown",
   "id": "39a2e3b1",
   "metadata": {},
   "source": [
    "# Addition (+)"
   ]
  },
  {
   "cell_type": "code",
   "execution_count": 44,
   "id": "2cfa99c7",
   "metadata": {},
   "outputs": [
    {
     "name": "stdout",
     "output_type": "stream",
     "text": [
      "[[25  4 57 73  1]\n",
      " [22 20 75 42 11]\n",
      " [22 39 21 45 40]]\n",
      "---------------\n",
      "[[26  5 58 74  2]\n",
      " [23 21 76 43 12]\n",
      " [23 40 22 46 41]]\n"
     ]
    }
   ],
   "source": [
    "np.random.seed(3)\n",
    "arr=np.random.randint(1,78,(3,5))\n",
    "print(arr)\n",
    "print(\"-\"*15)\n",
    "print(arr+1)\n"
   ]
  },
  {
   "cell_type": "markdown",
   "id": "4e220d35",
   "metadata": {},
   "source": [
    "# Substraction"
   ]
  },
  {
   "cell_type": "code",
   "execution_count": 45,
   "id": "c9bc8050",
   "metadata": {},
   "outputs": [
    {
     "name": "stdout",
     "output_type": "stream",
     "text": [
      "[[25  4 57 73  1]\n",
      " [22 20 75 42 11]\n",
      " [22 39 21 45 40]]\n",
      "---------------\n",
      "[[20 -1 52 68 -4]\n",
      " [17 15 70 37  6]\n",
      " [17 34 16 40 35]]\n"
     ]
    }
   ],
   "source": [
    "print(arr)\n",
    "print('-'*15)\n",
    "print(arr-5)"
   ]
  },
  {
   "cell_type": "markdown",
   "id": "1e1c3448",
   "metadata": {},
   "source": [
    "# Multiplication"
   ]
  },
  {
   "cell_type": "code",
   "execution_count": 46,
   "id": "ab207cfd",
   "metadata": {},
   "outputs": [
    {
     "name": "stdout",
     "output_type": "stream",
     "text": [
      "[[25  4 57 73  1]\n",
      " [22 20 75 42 11]\n",
      " [22 39 21 45 40]]\n",
      "---------------\n",
      "[[ 50   8 114 146   2]\n",
      " [ 44  40 150  84  22]\n",
      " [ 44  78  42  90  80]]\n"
     ]
    }
   ],
   "source": [
    "print(arr)\n",
    "print('-'*15)\n",
    "print(arr*2)"
   ]
  },
  {
   "cell_type": "markdown",
   "id": "06427957",
   "metadata": {},
   "source": [
    "# Division"
   ]
  },
  {
   "cell_type": "code",
   "execution_count": 48,
   "id": "4643fc68",
   "metadata": {},
   "outputs": [
    {
     "name": "stdout",
     "output_type": "stream",
     "text": [
      "[[25  4 57 73  1]\n",
      " [22 20 75 42 11]\n",
      " [22 39 21 45 40]]\n",
      "---------------\n",
      "[[12.5  2.  28.5 36.5  0.5]\n",
      " [11.  10.  37.5 21.   5.5]\n",
      " [11.  19.5 10.5 22.5 20. ]]\n"
     ]
    }
   ],
   "source": [
    "print(arr)\n",
    "print('-'*15)\n",
    "print(arr/2)"
   ]
  },
  {
   "cell_type": "markdown",
   "id": "1b1ae3ab",
   "metadata": {},
   "source": [
    "# Matrix Multiplication"
   ]
  },
  {
   "cell_type": "code",
   "execution_count": 106,
   "id": "574cb3ad",
   "metadata": {},
   "outputs": [
    {
     "name": "stdout",
     "output_type": "stream",
     "text": [
      "[[27881 34249 30288]\n",
      " [36790 50113 53267]\n",
      " [19425 32591 29547]]\n",
      "---------------\n",
      "[[33580 28579 23123 26809 21521]\n",
      " [34703 26832 21772 24622 20563]\n",
      " [31051 29510 18104 22320 24751]\n",
      " [22260  9130 14256 13550  4752]\n",
      " [15667 16409  6362  8829 15475]]\n"
     ]
    },
    {
     "data": {
      "text/plain": [
       "array([[33580, 28579, 23123, 26809, 21521],\n",
       "       [34703, 26832, 21772, 24622, 20563],\n",
       "       [31051, 29510, 18104, 22320, 24751],\n",
       "       [22260,  9130, 14256, 13550,  4752],\n",
       "       [15667, 16409,  6362,  8829, 15475]])"
      ]
     },
     "execution_count": 106,
     "metadata": {},
     "output_type": "execute_result"
    }
   ],
   "source": [
    "np.random.seed(3)\n",
    "arr1=np.random.randint(1,150,(3,5))\n",
    "arr2=np.random.randint(1,150,(5,3))\n",
    "print(arr1.dot(arr2))\n",
    "print('-'*15)\n",
    "print(arr2.dot(arr1))\n",
    "\n",
    "arr2@arr1"
   ]
  },
  {
   "cell_type": "markdown",
   "id": "bcf20c83",
   "metadata": {},
   "source": [
    "# Power"
   ]
  },
  {
   "cell_type": "code",
   "execution_count": 52,
   "id": "b18fd4cf",
   "metadata": {},
   "outputs": [
    {
     "name": "stdout",
     "output_type": "stream",
     "text": [
      "[[25  4 57 73  1]\n",
      " [22 20 75 42 11]\n",
      " [22 39 21 45 40]]\n",
      "---------------\n",
      "[[ 625   16 3249 5329    1]\n",
      " [ 484  400 5625 1764  121]\n",
      " [ 484 1521  441 2025 1600]]\n"
     ]
    }
   ],
   "source": [
    "print(arr)\n",
    "print('-'*15)\n",
    "print(arr**2)"
   ]
  },
  {
   "cell_type": "markdown",
   "id": "e8d2651f",
   "metadata": {},
   "source": [
    "# 21. Percentile Function"
   ]
  },
  {
   "cell_type": "code",
   "execution_count": 67,
   "id": "09dd8f28",
   "metadata": {},
   "outputs": [
    {
     "name": "stdout",
     "output_type": "stream",
     "text": [
      "[9 4 9 9 1 6 4 6 8 7]\n",
      "[1 4 4 6 6 7 8 9 9 9]\n",
      "8.27\n",
      "3.4299999999999997\n"
     ]
    }
   ],
   "source": [
    "np.random.seed(3)\n",
    "arr=np.random.randint(1,10,10)\n",
    "print(arr)\n",
    "\n",
    "arr=np.sort(arr)\n",
    "print(arr)\n",
    "a=np.array([9,9,9,8])\n",
    "print(np.percentile(a,9))\n",
    "print(np.percentile(arr,9))\n",
    "\n"
   ]
  },
  {
   "cell_type": "markdown",
   "id": "b77725ed",
   "metadata": {},
   "source": [
    "# 22. Mean ,Variance and Standard devision"
   ]
  },
  {
   "cell_type": "code",
   "execution_count": 71,
   "id": "dbf3cbd2",
   "metadata": {},
   "outputs": [
    {
     "name": "stdout",
     "output_type": "stream",
     "text": [
      "[9 4 9 9 1 6 4 6 8 7]\n",
      "6.3\n",
      "6.410000000000001\n",
      "2.5317977802344327\n"
     ]
    }
   ],
   "source": [
    "np.random.seed(3)\n",
    "arr=np.random.randint(1,10,10)\n",
    "print(arr)\n",
    "\n",
    "print(arr.mean())\n",
    "print(arr.var())\n",
    "print(arr.std())\n"
   ]
  },
  {
   "cell_type": "markdown",
   "id": "f7cf4aa0",
   "metadata": {},
   "source": [
    "# 23. Filtering an numpy arr"
   ]
  },
  {
   "cell_type": "code",
   "execution_count": 74,
   "id": "6b7ab7f7",
   "metadata": {},
   "outputs": [
    {
     "name": "stdout",
     "output_type": "stream",
     "text": [
      "[ 1  2  3  4  5  6  7  8  9 10 11 12 13 14]\n",
      "[False False False False False False False False False False  True  True\n",
      "  True  True]\n",
      "[11 12 13 14]\n"
     ]
    }
   ],
   "source": [
    "arr=np.arange(1,15)\n",
    "print(arr)\n",
    "print(arr>10)\n",
    "print(arr[arr>10])"
   ]
  },
  {
   "cell_type": "code",
   "execution_count": 78,
   "id": "e83eee3b",
   "metadata": {},
   "outputs": [
    {
     "name": "stdout",
     "output_type": "stream",
     "text": [
      "[ 1  2  3  4  5  6  7  8  9 10  5  5  5  5]\n",
      "[ 1  2  3  4  5  6  7  8  9 10  5  5  5  5]\n"
     ]
    }
   ],
   "source": [
    "print(arr)\n",
    "arr[arr>10]=5\n",
    "print(arr)\n"
   ]
  },
  {
   "cell_type": "markdown",
   "id": "15c14e26",
   "metadata": {},
   "source": [
    "# 24. Transposing array"
   ]
  },
  {
   "cell_type": "code",
   "execution_count": 80,
   "id": "aee92c83",
   "metadata": {},
   "outputs": [
    {
     "name": "stdout",
     "output_type": "stream",
     "text": [
      "[[6 9 2 9 8]\n",
      " [9 2 1 6 5]\n",
      " [2 6 5 8 7]] \n",
      " ---------------\n",
      "[[6 9 2]\n",
      " [9 2 6]\n",
      " [2 1 5]\n",
      " [9 6 8]\n",
      " [8 5 7]]\n"
     ]
    }
   ],
   "source": [
    "arr=np.random.randint(1,10,(3,5))\n",
    "print(arr,\"\\n\",\"-\"*15)\n",
    "print(arr.T)"
   ]
  },
  {
   "cell_type": "markdown",
   "id": "7760eb20",
   "metadata": {},
   "source": [
    "# 25. where ()"
   ]
  },
  {
   "cell_type": "code",
   "execution_count": 88,
   "id": "62d9572d",
   "metadata": {},
   "outputs": [
    {
     "data": {
      "text/plain": [
       "array([2, 2, 6, 6, 8, 5, 4, 1, 1, 1])"
      ]
     },
     "execution_count": 88,
     "metadata": {},
     "output_type": "execute_result"
    }
   ],
   "source": [
    "arr=np.random.randint(1,10,10)\n",
    "arr"
   ]
  },
  {
   "cell_type": "code",
   "execution_count": 89,
   "id": "106dd8dd",
   "metadata": {},
   "outputs": [
    {
     "data": {
      "text/plain": [
       "array(['even', 'even', 'even', 'even', 'even', 'odd', 'even', 'odd',\n",
       "       'odd', 'odd'], dtype='<U11')"
      ]
     },
     "execution_count": 89,
     "metadata": {},
     "output_type": "execute_result"
    }
   ],
   "source": [
    "arr1=np.where(arr%2==0,\"even\",arr)\n",
    "arr1=np.where(arr%2!=0,\"odd\",arr1)\n",
    "arr1"
   ]
  },
  {
   "cell_type": "markdown",
   "id": "8385f74b",
   "metadata": {},
   "source": [
    "# 26. Merging arr"
   ]
  },
  {
   "cell_type": "markdown",
   "id": "68754563",
   "metadata": {},
   "source": [
    "# concatenate"
   ]
  },
  {
   "cell_type": "code",
   "execution_count": 92,
   "id": "9671c4a7",
   "metadata": {},
   "outputs": [
    {
     "name": "stdout",
     "output_type": "stream",
     "text": [
      "[[1 5 4 1]\n",
      " [9 3 8 3]]\n",
      "--------------------\n",
      "[[2 4 3 5]\n",
      " [2 3 3 8]]\n",
      "--------------------\n",
      "[[1 5 4 1]\n",
      " [9 3 8 3]\n",
      " [2 4 3 5]\n",
      " [2 3 3 8]]\n",
      "--------------------\n",
      "[[1 5 4 1 2 4 3 5]\n",
      " [9 3 8 3 2 3 3 8]]\n"
     ]
    }
   ],
   "source": [
    "arr=np.random.randint(1,10,(2,4))\n",
    "arr1=np.random.randint(1,10,(2,4))\n",
    "\n",
    "\n",
    "print(arr)\n",
    "print(\"-\"*20)\n",
    "\n",
    "print(arr1)\n",
    "\n",
    "print(\"-\"*20)\n",
    "print(np.concatenate((arr,arr1),axis=0))\n",
    "print(\"-\"*20)\n",
    "\n",
    "print(np.concatenate((arr,arr1),axis=1))\n",
    "\n",
    "\n"
   ]
  },
  {
   "cell_type": "markdown",
   "id": "1f8e9516",
   "metadata": {},
   "source": [
    "# Vstack and Hstack"
   ]
  },
  {
   "cell_type": "code",
   "execution_count": 96,
   "id": "0167707c",
   "metadata": {},
   "outputs": [
    {
     "name": "stdout",
     "output_type": "stream",
     "text": [
      "[[6 7 8 4]\n",
      " [6 2 9 3]]\n",
      "--------------------\n",
      "[[9 5 6 1]\n",
      " [9 8 2 3]]\n",
      "--------------------\n",
      "[[6 7 8 4 9 5 6 1]\n",
      " [6 2 9 3 9 8 2 3]]\n",
      "[[6 7 8 4]\n",
      " [6 2 9 3]\n",
      " [9 5 6 1]\n",
      " [9 8 2 3]]\n"
     ]
    }
   ],
   "source": [
    "arr=np.random.randint(1,10,(2,4))\n",
    "arr1=np.random.randint(1,10,(2,4))\n",
    "\n",
    "\n",
    "print(arr)\n",
    "print(\"-\"*20)\n",
    "\n",
    "print(arr1)\n",
    "print(\"-\"*20)\n",
    "\n",
    "print(np.hstack((arr,arr1)))\n",
    "print(np.vstack((arr,arr1)))"
   ]
  },
  {
   "cell_type": "markdown",
   "id": "0400d91d",
   "metadata": {},
   "source": [
    "# 27. Splitting Array"
   ]
  },
  {
   "cell_type": "code",
   "execution_count": 100,
   "id": "81e1591e",
   "metadata": {},
   "outputs": [
    {
     "name": "stdout",
     "output_type": "stream",
     "text": [
      "[[7 4 7 8]\n",
      " [8 1 9 5]\n",
      " [6 5 6 1]\n",
      " [4 6 5 3]]\n"
     ]
    },
    {
     "data": {
      "text/plain": [
       "[array([[7, 4, 7, 8],\n",
       "        [8, 1, 9, 5]]),\n",
       " array([[6, 5, 6, 1],\n",
       "        [4, 6, 5, 3]])]"
      ]
     },
     "execution_count": 100,
     "metadata": {},
     "output_type": "execute_result"
    }
   ],
   "source": [
    "arr1=np.random.randint(1,10,(4,4))\n",
    "print(arr1)\n",
    "\n",
    "np.vsplit(arr1,2)"
   ]
  },
  {
   "cell_type": "markdown",
   "id": "4cb55c6e",
   "metadata": {},
   "source": [
    "# 28. Turning Pics intp Numpy arrays"
   ]
  },
  {
   "cell_type": "markdown",
   "id": "4da60d97",
   "metadata": {},
   "source": [
    "<img src=\"img.jpg\">"
   ]
  },
  {
   "cell_type": "code",
   "execution_count": 102,
   "id": "c65482e1",
   "metadata": {},
   "outputs": [],
   "source": [
    "from matplotlib.image import imread"
   ]
  },
  {
   "cell_type": "code",
   "execution_count": 103,
   "id": "da8936cb",
   "metadata": {},
   "outputs": [],
   "source": [
    "img=imread(\"img.jpg\")"
   ]
  },
  {
   "cell_type": "code",
   "execution_count": 104,
   "id": "d9c5acf3",
   "metadata": {},
   "outputs": [
    {
     "data": {
      "text/plain": [
       "(4480, 6720, 3)"
      ]
     },
     "execution_count": 104,
     "metadata": {},
     "output_type": "execute_result"
    }
   ],
   "source": [
    "img.shape"
   ]
  },
  {
   "cell_type": "code",
   "execution_count": 105,
   "id": "69a4747f",
   "metadata": {},
   "outputs": [
    {
     "data": {
      "text/plain": [
       "array([[[ 36,  74, 111],\n",
       "        [ 36,  74, 111],\n",
       "        [ 36,  74, 111],\n",
       "        ...,\n",
       "        [ 34,  30,  63],\n",
       "        [ 34,  30,  63],\n",
       "        [ 34,  30,  63]],\n",
       "\n",
       "       [[ 36,  74, 111],\n",
       "        [ 36,  74, 111],\n",
       "        [ 36,  74, 111],\n",
       "        ...,\n",
       "        [ 34,  30,  63],\n",
       "        [ 34,  30,  63],\n",
       "        [ 34,  30,  63]],\n",
       "\n",
       "       [[ 36,  74, 111],\n",
       "        [ 36,  74, 111],\n",
       "        [ 36,  74, 111],\n",
       "        ...,\n",
       "        [ 34,  30,  63],\n",
       "        [ 34,  30,  63],\n",
       "        [ 34,  30,  63]],\n",
       "\n",
       "       ...,\n",
       "\n",
       "       [[ 87,  84,  91],\n",
       "        [ 77,  77,  85],\n",
       "        [ 65,  72,  82],\n",
       "        ...,\n",
       "        [ 58, 105, 135],\n",
       "        [ 62, 109, 139],\n",
       "        [ 63, 110, 140]],\n",
       "\n",
       "       [[ 76,  79,  88],\n",
       "        [ 68,  75,  85],\n",
       "        [ 57,  69,  81],\n",
       "        ...,\n",
       "        [ 58, 105, 135],\n",
       "        [ 54, 101, 131],\n",
       "        [ 54, 101, 131]],\n",
       "\n",
       "       [[ 69,  76,  86],\n",
       "        [ 66,  76,  86],\n",
       "        [ 56,  72,  85],\n",
       "        ...,\n",
       "        [ 57, 104, 134],\n",
       "        [ 54, 101, 131],\n",
       "        [ 53, 100, 130]]], dtype=uint8)"
      ]
     },
     "execution_count": 105,
     "metadata": {},
     "output_type": "execute_result"
    }
   ],
   "source": [
    "img"
   ]
  },
  {
   "cell_type": "code",
   "execution_count": null,
   "id": "761623cd",
   "metadata": {},
   "outputs": [],
   "source": [
    "f"
   ]
  }
 ],
 "metadata": {
  "kernelspec": {
   "display_name": "Python 3 (ipykernel)",
   "language": "python",
   "name": "python3"
  },
  "language_info": {
   "codemirror_mode": {
    "name": "ipython",
    "version": 3
   },
   "file_extension": ".py",
   "mimetype": "text/x-python",
   "name": "python",
   "nbconvert_exporter": "python",
   "pygments_lexer": "ipython3",
   "version": "3.12.1"
  }
 },
 "nbformat": 4,
 "nbformat_minor": 5
}
